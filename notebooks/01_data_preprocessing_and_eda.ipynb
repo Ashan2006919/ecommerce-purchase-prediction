{
 "cells": [
  {
   "cell_type": "code",
   "execution_count": null,
   "id": "a577f4a7",
   "metadata": {
    "vscode": {
     "languageId": "plaintext"
    }
   },
   "outputs": [],
   "source": [
    "# 📘 01_data_preprocessing_and_eda.ipynb\n",
    "\n",
    "# Step 1: Import libraries\n",
    "import pandas as pd\n",
    "import numpy as np\n",
    "import matplotlib.pyplot as plt\n",
    "import seaborn as sns\n",
    "\n",
    "# Step 2: Load dataset\n",
    "df = pd.read_csv('../data/online_shoppers_intention.csv')  # adjust path if needed\n",
    "df.head()\n",
    "\n",
    "# Step 3: Quick info\n",
    "df.info()\n",
    "df.describe()\n",
    "df.isnull().sum()\n",
    "\n",
    "# Step 4: Target check\n",
    "print(\"Target Distribution:\")\n",
    "print(df['Revenue'].value_counts(normalize=True))\n",
    "\n",
    "# Step 5: Categorical + numerical columns\n",
    "cat_cols = df.select_dtypes(include='object').columns.tolist()\n",
    "num_cols = df.select_dtypes(include=['int64', 'float64']).columns.tolist()\n",
    "\n",
    "print(\"\\nCategorical Columns:\", cat_cols)\n",
    "print(\"\\nNumerical Columns:\", num_cols)\n",
    "\n",
    "# Step 6: Visuals (optional for now)\n",
    "sns.countplot(data=df, x='Revenue')\n",
    "plt.title(\"Purchase Distribution (Target Variable)\")\n",
    "plt.show()\n"
   ]
  }
 ],
 "metadata": {
  "language_info": {
   "name": "python"
  }
 },
 "nbformat": 4,
 "nbformat_minor": 5
}
